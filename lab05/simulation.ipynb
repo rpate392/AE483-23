{
 "cells": [
  {
   "cell_type": "markdown",
   "id": "f4233d19",
   "metadata": {},
   "source": [
    "# 1. Set up the notebook"
   ]
  },
  {
   "cell_type": "markdown",
   "id": "38bcc561",
   "metadata": {},
   "source": [
    "Import all the modules we need."
   ]
  },
  {
   "cell_type": "code",
   "execution_count": 1,
   "id": "294d9f2d",
   "metadata": {},
   "outputs": [],
   "source": [
    "# These are standard modules\n",
    "import numpy as np\n",
    "import sympy as sym\n",
    "import matplotlib.pyplot as plt\n",
    "\n",
    "# This is a custom interface to the pybullet simulator\n",
    "import ae483_drone"
   ]
  },
  {
   "cell_type": "markdown",
   "id": "984b36e3",
   "metadata": {},
   "source": [
    "# 2. Start the simulator"
   ]
  },
  {
   "cell_type": "markdown",
   "id": "environmental-refrigerator",
   "metadata": {},
   "source": [
    "Create an instance of the `Simulator` class, which is an interface to the [pybullet](http://pybullet.org) simulation engine.\n",
    "\n",
    "There are three optional arguments:\n",
    "\n",
    "* `display` (`True` or `False`) is whether or not to show the simulation window - if you are recording videos or generating data, it is faster not to show the window;\n",
    "* `width` and `height` (positive integers) are the dimensions of the simulation window - these will also be the dimensions of snapshots or videos that are generated.\n",
    "\n",
    "**You must evaluate this cell only *once*.** If you want to start fresh with a new simulator, you must do `Kernel -> Restart` from the notebook menu first. If you evaluate this cell more than once without a call to `Kernel -> Restart` then you may get strange behavior that is hard to debug. (If you would like to help eliminate this strange behavior - which is a consequence of issues with how pybullet interacts with MacOS - by contributing to the pybullet open-source project, contact [Prof. Bretl](mailto:tbretl@illinois.edu).)"
   ]
  },
  {
   "cell_type": "code",
   "execution_count": 2,
   "id": "needed-motion",
   "metadata": {},
   "outputs": [],
   "source": [
    "simulator = ae483_drone.Simulator(\n",
    "    display=True,\n",
    "    width=640,\n",
    "    height=480,\n",
    ")"
   ]
  },
  {
   "cell_type": "markdown",
   "id": "83a63688",
   "metadata": {},
   "source": [
    "# 3. Run experiments"
   ]
  },
  {
   "cell_type": "markdown",
   "id": "c2f93061",
   "metadata": {},
   "source": [
    "## 3.x Flight test (template)\n",
    "\n",
    "Each time you duplicate this section, replace the title with a brief description of your current flight test."
   ]
  },
  {
   "cell_type": "markdown",
   "id": "0b4c3dac",
   "metadata": {},
   "source": [
    "### 3.x.1 Create a client"
   ]
  },
  {
   "cell_type": "markdown",
   "id": "264bfab0",
   "metadata": {},
   "source": [
    "The \"client\" specifies the desired position and yaw angle at a given time."
   ]
  },
  {
   "cell_type": "code",
   "execution_count": 3,
   "id": "ff588162",
   "metadata": {},
   "outputs": [],
   "source": [
    "class RobotClient:\n",
    "    def __init__(self):\n",
    "        pass\n",
    "    \n",
    "    def run(self, t):\n",
    "        o_x = 0.\n",
    "        o_y = 0.\n",
    "        o_z = 0.3\n",
    "        psi = 0.\n",
    "        \n",
    "        return {\n",
    "            'o_x': o_x,\n",
    "            'o_y': o_y,\n",
    "            'o_z': o_z,\n",
    "            'psi': psi,\n",
    "        }"
   ]
  },
  {
   "cell_type": "markdown",
   "id": "4e728ee2",
   "metadata": {},
   "source": [
    "### 3.x.2 Create a controller"
   ]
  },
  {
   "cell_type": "markdown",
   "id": "25c13a11",
   "metadata": {},
   "source": [
    "The \"controller\" specifies the motor power commands at a given state and setpoint."
   ]
  },
  {
   "cell_type": "code",
   "execution_count": 4,
   "id": "ca1c23f4",
   "metadata": {},
   "outputs": [],
   "source": [
    "class RobotController:\n",
    "    def __init__(self):\n",
    "        pass\n",
    "\n",
    "    def limitUint16(self, m):\n",
    "        \"\"\"\n",
    "        This function returns the closest integer to \"m\" in the\n",
    "        range [0, 65535]. It is called \"limitUint16\" because an\n",
    "        \"unsigned 16-bit integer\" is limited to this range.\n",
    "        \"\"\"\n",
    "        m = np.round(m, decimals=0)\n",
    "        if m < 0:\n",
    "            m = 0\n",
    "        elif m > 65535:\n",
    "            m = 65535\n",
    "        return m\n",
    "\n",
    "    def run(self, state, setpoint):\n",
    "        # Parse state\n",
    "        o_x = state['o_x']\n",
    "        o_y = state['o_y']\n",
    "        o_z = state['o_z']\n",
    "        psi = state['psi']\n",
    "        theta = state['theta']\n",
    "        phi = state['phi']\n",
    "        v_x = state['v_x']\n",
    "        v_y = state['v_y']\n",
    "        v_z = state['v_z']\n",
    "        w_x = state['w_x']\n",
    "        w_y = state['w_y']\n",
    "        w_z = state['w_z']\n",
    "        \n",
    "        # Parse setpoint\n",
    "        o_x_des = setpoint['o_x']\n",
    "        o_y_des = setpoint['o_y']\n",
    "        o_z_des = setpoint['o_z']\n",
    "        \n",
    "        # FIXME: Add code here to compute net torques and net force\n",
    "        #\n",
    "        #  tau_x = ...\n",
    "        #  tau_y = ...\n",
    "        #  tau_z = ...\n",
    "        #  f_z = ...\n",
    "        \n",
    "        # FIXME: Replace code here to compute motor power commands\n",
    "        m_1 = 0.\n",
    "        m_2 = 0.\n",
    "        m_3 = 0.\n",
    "        m_4 = 0.\n",
    "        \n",
    "        return m_1, m_2, m_3, m_4"
   ]
  },
  {
   "cell_type": "markdown",
   "id": "9a8fd0d1",
   "metadata": {},
   "source": [
    "### 3.x.3 Add a drone with this client and controller to the simulator"
   ]
  },
  {
   "cell_type": "markdown",
   "id": "9aa4239b",
   "metadata": {},
   "source": [
    "Remove all existing drones from the simulator."
   ]
  },
  {
   "cell_type": "code",
   "execution_count": 5,
   "id": "32cf78f4",
   "metadata": {},
   "outputs": [],
   "source": [
    "simulator.clear_drones()"
   ]
  },
  {
   "cell_type": "markdown",
   "id": "f41c0257",
   "metadata": {},
   "source": [
    "Add a new drone to the simulator.\n",
    "\n",
    "There are three required arguments:\n",
    "\n",
    "* the name of the drone (a string), for example `my_drone`\n",
    "* the class that defines the client, for example `RobotClient`\n",
    "* the class that defines the controller, for example `RobotController`\n",
    "\n",
    "There is one optional argument that allows you to change the appearance of the drone (if you want) - this is useful if you simulate more than one drone at a time:\n",
    "\n",
    "* `rgba` is a list of four numbers between 0 and 1 (red, green, blue, alpha) that define an [RGBA color](https://en.wikipedia.org/wiki/RGBA_color_model)\n",
    "\n",
    "There are eight optional arguments that allow you to change the physical parameters that govern the drone (mass, moments of inertia, and so forth). You **must** change the values of these arguments if you want the simulated drone to match your real drone.\n",
    "\n",
    "* `m`, `J_x`, `J_y`, `J_z`, `g`, `l`, `k_F`, `k_M` are scalar parameters"
   ]
  },
  {
   "cell_type": "code",
   "execution_count": 6,
   "id": "6e177797",
   "metadata": {},
   "outputs": [],
   "source": [
    "simulator.add_drone(\n",
    "    'my_drone',\n",
    "    RobotClient,\n",
    "    RobotController,\n",
    "    rgba=[1., 0., 1., 1.],\n",
    "    m=0.032,   # <-- FIXME\n",
    "    J_x=1e-5,  # <-- FIXME\n",
    "    J_y=1e-5,  # <-- FIXME\n",
    "    J_z=2e-5,  # <-- FIXME\n",
    "    g=9.81,\n",
    "    l=0.035,   # <-- FIXME\n",
    "    k_F=2e-6,  # <-- FIXME\n",
    "    k_M=1e-8,  # <-- FIXME\n",
    ")"
   ]
  },
  {
   "cell_type": "markdown",
   "id": "4e0ccb17",
   "metadata": {},
   "source": [
    "Set the initial state of this drone. Here, as an example, we start the drone near the desired position that was specified by the client."
   ]
  },
  {
   "cell_type": "code",
   "execution_count": 7,
   "id": "d1e4ad5e",
   "metadata": {},
   "outputs": [],
   "source": [
    "simulator.set_state(\n",
    "    'my_drone',\n",
    "    {\n",
    "        'o_x': 0.01,\n",
    "        'o_y': -0.02,\n",
    "        'o_z': 0.27,\n",
    "        'psi': 0.,\n",
    "        'theta': 0.,\n",
    "        'phi': 0.,\n",
    "        'v_x': 0.,\n",
    "        'v_y': 0.,\n",
    "        'v_z': 0.,\n",
    "        'w_x': 0.,\n",
    "        'w_y': 0.,\n",
    "        'w_z': 0.,\n",
    "    },\n",
    ")"
   ]
  },
  {
   "cell_type": "markdown",
   "id": "f466ccdf",
   "metadata": {},
   "source": [
    "You could repeat this process to add more drones, if you want to test more than one client and controller (or more than one initial state) at a time."
   ]
  },
  {
   "cell_type": "markdown",
   "id": "2c76d650",
   "metadata": {},
   "source": [
    "### 3.x.4 Set the camera view (optional)"
   ]
  },
  {
   "cell_type": "markdown",
   "id": "ada45b3b",
   "metadata": {},
   "source": [
    "Here is how to make the camera always look at a certain point (in this case, a point that is 0.3 meters above the origin of the world frame):"
   ]
  },
  {
   "cell_type": "code",
   "execution_count": null,
   "id": "b8f1b67c",
   "metadata": {},
   "outputs": [],
   "source": [
    "simulator.set_camera_target([0.0, 0.0, 0.3])"
   ]
  },
  {
   "cell_type": "markdown",
   "id": "4ca943a7",
   "metadata": {},
   "source": [
    "Here is how to make the camera always look at a certain drone (in this case, the one called `my_drone`):"
   ]
  },
  {
   "cell_type": "code",
   "execution_count": null,
   "id": "30671698",
   "metadata": {},
   "outputs": [],
   "source": [
    "simulator.set_camera_target('my_drone')"
   ]
  },
  {
   "cell_type": "markdown",
   "id": "d85d9ae5",
   "metadata": {},
   "source": [
    "Here is how to get a top view:"
   ]
  },
  {
   "cell_type": "code",
   "execution_count": null,
   "id": "ca33465f",
   "metadata": {},
   "outputs": [],
   "source": [
    "simulator.camera_topview()"
   ]
  },
  {
   "cell_type": "markdown",
   "id": "b711f09e",
   "metadata": {},
   "source": [
    "Here is how to get a side view:"
   ]
  },
  {
   "cell_type": "code",
   "execution_count": null,
   "id": "a4e4f8b4",
   "metadata": {},
   "outputs": [],
   "source": [
    "simulator.camera_sideview()"
   ]
  },
  {
   "cell_type": "markdown",
   "id": "a681eb2b",
   "metadata": {},
   "source": [
    "Here is how to change the yaw angle of the camera (i.e., to make the camera rotate about the point it is looking at):"
   ]
  },
  {
   "cell_type": "code",
   "execution_count": null,
   "id": "863f6104",
   "metadata": {},
   "outputs": [],
   "source": [
    "simulator.set_camera_yaw(45)"
   ]
  },
  {
   "cell_type": "markdown",
   "id": "8a9b1e02",
   "metadata": {},
   "source": [
    "Here is how to change the distance between the camera and the point it is looking at:"
   ]
  },
  {
   "cell_type": "code",
   "execution_count": null,
   "id": "5f380fe7",
   "metadata": {},
   "outputs": [],
   "source": [
    "simulator.set_camera_distance(1.0)"
   ]
  },
  {
   "cell_type": "markdown",
   "id": "681aec5d",
   "metadata": {},
   "source": [
    "### 3.x.5 Run the simulator"
   ]
  },
  {
   "cell_type": "markdown",
   "id": "67195bdc",
   "metadata": {},
   "source": [
    "Here is how to run the simulator for 10 seconds while saving data to the file `simulation_x_data.json` and saving video to the file `simulation_x_video.json`.\n",
    "\n",
    "If you do not need to save video and want this to run much faster, then specify `video_filename=None`."
   ]
  },
  {
   "cell_type": "code",
   "execution_count": null,
   "id": "f8526f69",
   "metadata": {},
   "outputs": [],
   "source": [
    "simulator.run(\n",
    "    max_time=10.,\n",
    "    data_filename='simulation_x_data.json',\n",
    "    video_filename='simulation_x_video.mov',\n",
    ")"
   ]
  },
  {
   "cell_type": "markdown",
   "id": "28db6c97",
   "metadata": {},
   "source": [
    "Be careful! Both the data file and the video file will be overwritten if they already exist. We suggest you use a different name for each experiment."
   ]
  },
  {
   "cell_type": "markdown",
   "id": "83a63688",
   "metadata": {},
   "source": [
    "# 3. Run experiments"
   ]
  },
  {
   "cell_type": "markdown",
   "id": "c2f93061",
   "metadata": {},
   "source": [
    "## 3.1 Flight test\n",
    "\n",
    "Each time you duplicate this section, replace the title with a brief description of your current flight test."
   ]
  },
  {
   "cell_type": "markdown",
   "id": "0b4c3dac",
   "metadata": {},
   "source": [
    "### 3.1.1 Create a client"
   ]
  },
  {
   "cell_type": "markdown",
   "id": "264bfab0",
   "metadata": {},
   "source": [
    "The \"client\" specifies the desired position and yaw angle at a given time."
   ]
  },
  {
   "cell_type": "code",
   "execution_count": 3,
   "id": "ff588162",
   "metadata": {},
   "outputs": [],
   "source": [
    "class RobotClient:\n",
    "    def __init__(self):\n",
    "        pass\n",
    "    \n",
    "    def run(self, t):\n",
    "        o_x = 0.\n",
    "        o_y = 0.\n",
    "        o_z = 0.3\n",
    "        psi = 0.\n",
    "        \n",
    "        return {\n",
    "            'o_x': o_x,\n",
    "            'o_y': o_y,\n",
    "            'o_z': o_z,\n",
    "            'psi': psi,\n",
    "        }"
   ]
  },
  {
   "cell_type": "markdown",
   "id": "4e728ee2",
   "metadata": {},
   "source": [
    "### 3.1.2 Create a controller"
   ]
  },
  {
   "cell_type": "markdown",
   "id": "25c13a11",
   "metadata": {},
   "source": [
    "The \"controller\" specifies the motor power commands at a given state and setpoint."
   ]
  },
  {
   "cell_type": "code",
   "execution_count": 4,
   "id": "ca1c23f4",
   "metadata": {},
   "outputs": [],
   "source": [
    "class RobotController:\n",
    "    def __init__(self):\n",
    "        pass\n",
    "\n",
    "    def limitUint16(self, m):\n",
    "        \"\"\"\n",
    "        This function returns the closest integer to \"m\" in the\n",
    "        range [0, 65535]. It is called \"limitUint16\" because an\n",
    "        \"unsigned 16-bit integer\" is limited to this range.\n",
    "        \"\"\"\n",
    "        m = np.round(m, decimals=0)\n",
    "        if m < 0:\n",
    "            m = 0\n",
    "        elif m > 65535:\n",
    "            m = 65535\n",
    "        return m\n",
    "\n",
    "    def run(self, state, setpoint):\n",
    "        # Parse state\n",
    "        o_x = state['o_x']\n",
    "        o_y = state['o_y']\n",
    "        o_z = state['o_z']\n",
    "        psi = state['psi']\n",
    "        theta = state['theta']\n",
    "        phi = state['phi']\n",
    "        v_x = state['v_x']\n",
    "        v_y = state['v_y']\n",
    "        v_z = state['v_z']\n",
    "        w_x = state['w_x']\n",
    "        w_y = state['w_y']\n",
    "        w_z = state['w_z']\n",
    "        \n",
    "        # Parse setpoint\n",
    "        o_x_des = setpoint['o_x']\n",
    "        o_y_des = setpoint['o_y']\n",
    "        o_z_des = setpoint['o_z']\n",
    "        \n",
    "        # FIXME: Add code here to compute net torques and net force\n",
    "        #\n",
    "        tau_x = 0.00060768 * (o_y - o_y_des) -0.00352379 * phi + 0.00089768 * v_y -0.00069497 * w_x\n",
    "        tau_y = -0.00060768 * (o_x - o_x_des) -0.00402520 * theta -0.00093164 * v_x -0.00069341 * w_y\n",
    "        tau_z = -0.00025169 * psi -0.00014321 * w_z\n",
    "        f_z = -0.01787296 * (o_z - o_z_des) -0.03787764 * v_z + 0.30607200\n",
    "        \n",
    "        # FIXME: Replace code here to compute motor power commands\n",
    "        m_1 = self.limitUint16( -3622138.5 * tau_x -3622138.5 * tau_y -27654867.3 * tau_z + 123152.7 * f_z )\n",
    "        m_2 = self.limitUint16( -3622138.5 * tau_x + 3622138.5 * tau_y + 27654867.3 * tau_z + 123152.7 * f_z )\n",
    "        m_3 = self.limitUint16( 3622138.5 * tau_x + 3622138.5 * tau_y -27654867.3 * tau_z + 123152.7 * f_z )\n",
    "        m_4 = self.limitUint16( 3622138.5 * tau_x -3622138.5 * tau_y + 27654867.3 * tau_z + 123152.7 * f_z )\n",
    "        \n",
    "        return m_1, m_2, m_3, m_4"
   ]
  },
  {
   "cell_type": "markdown",
   "id": "9a8fd0d1",
   "metadata": {},
   "source": [
    "### 3.1.3 Add a drone with this client and controller to the simulator"
   ]
  },
  {
   "cell_type": "markdown",
   "id": "9aa4239b",
   "metadata": {},
   "source": [
    "Remove all existing drones from the simulator."
   ]
  },
  {
   "cell_type": "code",
   "execution_count": 5,
   "id": "32cf78f4",
   "metadata": {},
   "outputs": [],
   "source": [
    "simulator.clear_drones()"
   ]
  },
  {
   "cell_type": "markdown",
   "id": "f41c0257",
   "metadata": {},
   "source": [
    "Add a new drone to the simulator.\n",
    "\n",
    "There are three required arguments:\n",
    "\n",
    "* the name of the drone (a string), for example `my_drone`\n",
    "* the class that defines the client, for example `RobotClient`\n",
    "* the class that defines the controller, for example `RobotController`\n",
    "\n",
    "There is one optional argument that allows you to change the appearance of the drone (if you want) - this is useful if you simulate more than one drone at a time:\n",
    "\n",
    "* `rgba` is a list of four numbers between 0 and 1 (red, green, blue, alpha) that define an [RGBA color](https://en.wikipedia.org/wiki/RGBA_color_model)\n",
    "\n",
    "There are eight optional arguments that allow you to change the physical parameters that govern the drone (mass, moments of inertia, and so forth). You **must** change the values of these arguments if you want the simulated drone to match your real drone.\n",
    "\n",
    "* `m`, `J_x`, `J_y`, `J_z`, `g`, `l`, `k_F`, `k_M` are scalar parameters"
   ]
  },
  {
   "cell_type": "code",
   "execution_count": 6,
   "id": "6e177797",
   "metadata": {},
   "outputs": [],
   "source": [
    "simulator.add_drone(\n",
    "    'my_drone',\n",
    "    RobotClient,\n",
    "    RobotController,\n",
    "    rgba=[1., 0., 1., 1.],\n",
    "    m=0.0312,   # <-- FIXME\n",
    "    J_x=1.6133826016353346e-05,  # <-- FIXME\n",
    "    J_y=1.3854992554639881e-05,  # <-- FIXME\n",
    "    J_z=2.8158758022122814e-05,  # <-- FIXME\n",
    "    g=9.81,\n",
    "    l = 0.034,  # <-- FIXME\n",
    "    k_F = 2.03e-06, # <-- FIXME\n",
    "    k_M = 9.04e-09 # <-- FIXME\n",
    ")"
   ]
  },
  {
   "cell_type": "markdown",
   "id": "4e0ccb17",
   "metadata": {},
   "source": [
    "Set the initial state of this drone. Here, as an example, we start the drone near the desired position that was specified by the client."
   ]
  },
  {
   "cell_type": "code",
   "execution_count": 7,
   "id": "d1e4ad5e",
   "metadata": {},
   "outputs": [],
   "source": [
    "simulator.set_state(\n",
    "    'my_drone',\n",
    "    {\n",
    "        'o_x': 0.01,\n",
    "        'o_y': -0.02,\n",
    "        'o_z': 0.27,\n",
    "        'psi': 0.,\n",
    "        'theta': 0.,\n",
    "        'phi': 0.,\n",
    "        'v_x': 0.,\n",
    "        'v_y': 0.,\n",
    "        'v_z': 0.,\n",
    "        'w_x': 0.,\n",
    "        'w_y': 0.,\n",
    "        'w_z': 0.,\n",
    "    },\n",
    ")"
   ]
  },
  {
   "cell_type": "markdown",
   "id": "f466ccdf",
   "metadata": {},
   "source": [
    "You could repeat this process to add more drones, if you want to test more than one client and controller (or more than one initial state) at a time."
   ]
  },
  {
   "cell_type": "markdown",
   "id": "2c76d650",
   "metadata": {},
   "source": [
    "### 3.1.4 Set the camera view (optional)"
   ]
  },
  {
   "cell_type": "markdown",
   "id": "ada45b3b",
   "metadata": {},
   "source": [
    "Here is how to make the camera always look at a certain point (in this case, a point that is 0.3 meters above the origin of the world frame):"
   ]
  },
  {
   "cell_type": "code",
   "execution_count": 19,
   "id": "b8f1b67c",
   "metadata": {},
   "outputs": [],
   "source": [
    "simulator.set_camera_target([0.0, 0.0, 0.3])"
   ]
  },
  {
   "cell_type": "markdown",
   "id": "4ca943a7",
   "metadata": {},
   "source": [
    "Here is how to make the camera always look at a certain drone (in this case, the one called `my_drone`):"
   ]
  },
  {
   "cell_type": "code",
   "execution_count": 20,
   "id": "30671698",
   "metadata": {},
   "outputs": [],
   "source": [
    "simulator.set_camera_target('my_drone')"
   ]
  },
  {
   "cell_type": "markdown",
   "id": "d85d9ae5",
   "metadata": {},
   "source": [
    "Here is how to get a top view:"
   ]
  },
  {
   "cell_type": "code",
   "execution_count": 11,
   "id": "ca33465f",
   "metadata": {},
   "outputs": [],
   "source": [
    "simulator.camera_topview()"
   ]
  },
  {
   "cell_type": "markdown",
   "id": "b711f09e",
   "metadata": {},
   "source": [
    "Here is how to get a side view:"
   ]
  },
  {
   "cell_type": "code",
   "execution_count": 12,
   "id": "a4e4f8b4",
   "metadata": {},
   "outputs": [],
   "source": [
    "simulator.camera_sideview()"
   ]
  },
  {
   "cell_type": "markdown",
   "id": "a681eb2b",
   "metadata": {},
   "source": [
    "Here is how to change the yaw angle of the camera (i.e., to make the camera rotate about the point it is looking at):"
   ]
  },
  {
   "cell_type": "code",
   "execution_count": 13,
   "id": "863f6104",
   "metadata": {},
   "outputs": [],
   "source": [
    "simulator.set_camera_yaw(45)"
   ]
  },
  {
   "cell_type": "markdown",
   "id": "8a9b1e02",
   "metadata": {},
   "source": [
    "Here is how to change the distance between the camera and the point it is looking at:"
   ]
  },
  {
   "cell_type": "code",
   "execution_count": null,
   "id": "5f380fe7",
   "metadata": {},
   "outputs": [],
   "source": [
    "simulator.set_camera_distance(1.0)"
   ]
  },
  {
   "cell_type": "markdown",
   "id": "681aec5d",
   "metadata": {},
   "source": [
    "### 3.1.5 Run the simulator"
   ]
  },
  {
   "cell_type": "markdown",
   "id": "67195bdc",
   "metadata": {},
   "source": [
    "Here is how to run the simulator for 10 seconds while saving data to the file `simulation_x_data.json` and saving video to the file `simulation_x_video.json`.\n",
    "\n",
    "If you do not need to save video and want this to run much faster, then specify `video_filename=None`."
   ]
  },
  {
   "cell_type": "code",
   "execution_count": 8,
   "id": "f8526f69",
   "metadata": {},
   "outputs": [
    {
     "name": "stdout",
     "output_type": "stream",
     "text": [
      "Completed 1000 time steps in 10.1302 seconds (98.7148 time steps per second)\n"
     ]
    }
   ],
   "source": [
    "simulator.run(\n",
    "    max_time=10.,\n",
    "    data_filename='simulation_1_data.json',\n",
    "    video_filename=None,\n",
    "    # video_filename='simulation_1_video.mov',\n",
    ")"
   ]
  },
  {
   "cell_type": "markdown",
   "id": "28db6c97",
   "metadata": {},
   "source": [
    "Be careful! Both the data file and the video file will be overwritten if they already exist. We suggest you use a different name for each experiment."
   ]
  },
  {
   "cell_type": "markdown",
   "id": "83a63688",
   "metadata": {},
   "source": [
    "# 3. Run experiments"
   ]
  },
  {
   "cell_type": "markdown",
   "id": "c2f93061",
   "metadata": {},
   "source": [
    "## 3.2 Flight test\n",
    "\n",
    "Each time you duplicate this section, replace the title with a brief description of your current flight test."
   ]
  },
  {
   "cell_type": "markdown",
   "id": "0b4c3dac",
   "metadata": {},
   "source": [
    "### 3.2.1 Create a client"
   ]
  },
  {
   "cell_type": "markdown",
   "id": "264bfab0",
   "metadata": {},
   "source": [
    "The \"client\" specifies the desired position and yaw angle at a given time."
   ]
  },
  {
   "cell_type": "code",
   "execution_count": 3,
   "id": "ff588162",
   "metadata": {},
   "outputs": [],
   "source": [
    "class RobotClient:\n",
    "    def __init__(self):\n",
    "        pass\n",
    "    \n",
    "    def run(self, t):\n",
    "        o_x = 0.\n",
    "        o_y = 0.\n",
    "        o_z = 0.3\n",
    "        psi = 0.\n",
    "        \n",
    "        return {\n",
    "            'o_x': o_x,\n",
    "            'o_y': o_y,\n",
    "            'o_z': o_z,\n",
    "            'psi': psi,\n",
    "        }"
   ]
  },
  {
   "cell_type": "markdown",
   "id": "4e728ee2",
   "metadata": {},
   "source": [
    "### 3.2.2 Create a controller"
   ]
  },
  {
   "cell_type": "markdown",
   "id": "25c13a11",
   "metadata": {},
   "source": [
    "The \"controller\" specifies the motor power commands at a given state and setpoint."
   ]
  },
  {
   "cell_type": "code",
   "execution_count": 4,
   "id": "ca1c23f4",
   "metadata": {},
   "outputs": [],
   "source": [
    "class RobotController:\n",
    "    def __init__(self):\n",
    "        pass\n",
    "\n",
    "    def limitUint16(self, m):\n",
    "        \"\"\"\n",
    "        This function returns the closest integer to \"m\" in the\n",
    "        range [0, 65535]. It is called \"limitUint16\" because an\n",
    "        \"unsigned 16-bit integer\" is limited to this range.\n",
    "        \"\"\"\n",
    "        m = np.round(m, decimals=0)\n",
    "        if m < 0:\n",
    "            m = 0\n",
    "        elif m > 65535:\n",
    "            m = 65535\n",
    "        return m\n",
    "\n",
    "    def run(self, state, setpoint):\n",
    "        # Parse state\n",
    "        o_x = state['o_x']\n",
    "        o_y = state['o_y']\n",
    "        o_z = state['o_z']\n",
    "        psi = state['psi']\n",
    "        theta = state['theta']\n",
    "        phi = state['phi']\n",
    "        v_x = state['v_x']\n",
    "        v_y = state['v_y']\n",
    "        v_z = state['v_z']\n",
    "        w_x = state['w_x']\n",
    "        w_y = state['w_y']\n",
    "        w_z = state['w_z']\n",
    "        \n",
    "        # Parse setpoint\n",
    "        o_x_des = setpoint['o_x']\n",
    "        o_y_des = setpoint['o_y']\n",
    "        o_z_des = setpoint['o_z']\n",
    "        \n",
    "        # FIXME: Add code here to compute net torques and net force\n",
    "        #\n",
    "        tau_x = 0.00192165 * (o_y - o_y_des) -0.01066158 * phi + 0.00280530 * v_y -0.00200917 * w_x\n",
    "        tau_y = -0.00192165 * (o_x - o_x_des) -0.01062957 * theta -0.00280306 * v_x -0.00199682 * w_y\n",
    "        tau_z = -0.00025169 * psi -0.00027843 * w_z\n",
    "        f_z = -0.05651926 * (o_z - o_z_des) -0.08198310 * v_z + 0.30607200\n",
    "        \n",
    "        # FIXME: Replace code here to compute motor power commands\n",
    "        m_1 = self.limitUint16( -3622138.5 * tau_x -3622138.5 * tau_y -27654867.3 * tau_z + 123152.7 * f_z )\n",
    "        m_2 = self.limitUint16( -3622138.5 * tau_x + 3622138.5 * tau_y + 27654867.3 * tau_z + 123152.7 * f_z )\n",
    "        m_3 = self.limitUint16( 3622138.5 * tau_x + 3622138.5 * tau_y -27654867.3 * tau_z + 123152.7 * f_z )\n",
    "        m_4 = self.limitUint16( 3622138.5 * tau_x -3622138.5 * tau_y + 27654867.3 * tau_z + 123152.7 * f_z )\n",
    "        \n",
    "        return m_1, m_2, m_3, m_4"
   ]
  },
  {
   "cell_type": "markdown",
   "id": "9a8fd0d1",
   "metadata": {},
   "source": [
    "### 3.2.3 Add a drone with this client and controller to the simulator"
   ]
  },
  {
   "cell_type": "markdown",
   "id": "9aa4239b",
   "metadata": {},
   "source": [
    "Remove all existing drones from the simulator."
   ]
  },
  {
   "cell_type": "code",
   "execution_count": 19,
   "id": "32cf78f4",
   "metadata": {},
   "outputs": [],
   "source": [
    "simulator.clear_drones()"
   ]
  },
  {
   "cell_type": "markdown",
   "id": "f41c0257",
   "metadata": {},
   "source": [
    "Add a new drone to the simulator.\n",
    "\n",
    "There are three required arguments:\n",
    "\n",
    "* the name of the drone (a string), for example `my_drone`\n",
    "* the class that defines the client, for example `RobotClient`\n",
    "* the class that defines the controller, for example `RobotController`\n",
    "\n",
    "There is one optional argument that allows you to change the appearance of the drone (if you want) - this is useful if you simulate more than one drone at a time:\n",
    "\n",
    "* `rgba` is a list of four numbers between 0 and 1 (red, green, blue, alpha) that define an [RGBA color](https://en.wikipedia.org/wiki/RGBA_color_model)\n",
    "\n",
    "There are eight optional arguments that allow you to change the physical parameters that govern the drone (mass, moments of inertia, and so forth). You **must** change the values of these arguments if you want the simulated drone to match your real drone.\n",
    "\n",
    "* `m`, `J_x`, `J_y`, `J_z`, `g`, `l`, `k_F`, `k_M` are scalar parameters"
   ]
  },
  {
   "cell_type": "code",
   "execution_count": 20,
   "id": "6e177797",
   "metadata": {},
   "outputs": [],
   "source": [
    "simulator.add_drone(\n",
    "    'my_drone',\n",
    "    RobotClient,\n",
    "    RobotController,\n",
    "    rgba=[1., 0., 1., 1.],\n",
    "    m=0.0312,   # <-- FIXME\n",
    "    J_x=1.6133826016353346e-05,  # <-- FIXME\n",
    "    J_y=1.3854992554639881e-05,  # <-- FIXME\n",
    "    J_z=2.8158758022122814e-05,  # <-- FIXME\n",
    "    g=9.81,\n",
    "    l = 0.034,  # <-- FIXME\n",
    "    k_F = 2.03e-06, # <-- FIXME\n",
    "    k_M = 9.04e-09 # <-- FIXME\n",
    ")"
   ]
  },
  {
   "cell_type": "markdown",
   "id": "4e0ccb17",
   "metadata": {},
   "source": [
    "Set the initial state of this drone. Here, as an example, we start the drone near the desired position that was specified by the client."
   ]
  },
  {
   "cell_type": "code",
   "execution_count": 21,
   "id": "d1e4ad5e",
   "metadata": {},
   "outputs": [],
   "source": [
    "simulator.set_state(\n",
    "    'my_drone',\n",
    "    {\n",
    "        'o_x': 0.01,\n",
    "        'o_y': -0.02,\n",
    "        'o_z': 0.27,\n",
    "        'psi': 0.,\n",
    "        'theta': 0.,\n",
    "        'phi': 0.,\n",
    "        'v_x': 0.,\n",
    "        'v_y': 0.,\n",
    "        'v_z': 0.,\n",
    "        'w_x': 0.,\n",
    "        'w_y': 0.,\n",
    "        'w_z': 0.,\n",
    "    },\n",
    ")"
   ]
  },
  {
   "cell_type": "markdown",
   "id": "f466ccdf",
   "metadata": {},
   "source": [
    "You could repeat this process to add more drones, if you want to test more than one client and controller (or more than one initial state) at a time."
   ]
  },
  {
   "cell_type": "markdown",
   "id": "2c76d650",
   "metadata": {},
   "source": [
    "### 3.2.4 Set the camera view (optional)"
   ]
  },
  {
   "cell_type": "markdown",
   "id": "ada45b3b",
   "metadata": {},
   "source": [
    "Here is how to make the camera always look at a certain point (in this case, a point that is 0.3 meters above the origin of the world frame):"
   ]
  },
  {
   "cell_type": "code",
   "execution_count": 8,
   "id": "b8f1b67c",
   "metadata": {},
   "outputs": [],
   "source": [
    "simulator.set_camera_target([0.0, 0.0, 0.3])"
   ]
  },
  {
   "cell_type": "markdown",
   "id": "4ca943a7",
   "metadata": {},
   "source": [
    "Here is how to make the camera always look at a certain drone (in this case, the one called `my_drone`):"
   ]
  },
  {
   "cell_type": "code",
   "execution_count": 11,
   "id": "30671698",
   "metadata": {},
   "outputs": [],
   "source": [
    "simulator.set_camera_target('my_drone')"
   ]
  },
  {
   "cell_type": "markdown",
   "id": "d85d9ae5",
   "metadata": {},
   "source": [
    "Here is how to get a top view:"
   ]
  },
  {
   "cell_type": "code",
   "execution_count": 10,
   "id": "ca33465f",
   "metadata": {},
   "outputs": [],
   "source": [
    "simulator.camera_topview()"
   ]
  },
  {
   "cell_type": "markdown",
   "id": "b711f09e",
   "metadata": {},
   "source": [
    "Here is how to get a side view:"
   ]
  },
  {
   "cell_type": "code",
   "execution_count": 15,
   "id": "a4e4f8b4",
   "metadata": {},
   "outputs": [],
   "source": [
    "simulator.camera_sideview()"
   ]
  },
  {
   "cell_type": "markdown",
   "id": "a681eb2b",
   "metadata": {},
   "source": [
    "Here is how to change the yaw angle of the camera (i.e., to make the camera rotate about the point it is looking at):"
   ]
  },
  {
   "cell_type": "code",
   "execution_count": 16,
   "id": "863f6104",
   "metadata": {},
   "outputs": [],
   "source": [
    "simulator.set_camera_yaw(0)"
   ]
  },
  {
   "cell_type": "markdown",
   "id": "8a9b1e02",
   "metadata": {},
   "source": [
    "Here is how to change the distance between the camera and the point it is looking at:"
   ]
  },
  {
   "cell_type": "code",
   "execution_count": 14,
   "id": "5f380fe7",
   "metadata": {},
   "outputs": [],
   "source": [
    "simulator.set_camera_distance(1.0)"
   ]
  },
  {
   "cell_type": "markdown",
   "id": "681aec5d",
   "metadata": {},
   "source": [
    "### 3.2.5 Run the simulator"
   ]
  },
  {
   "cell_type": "markdown",
   "id": "67195bdc",
   "metadata": {},
   "source": [
    "Here is how to run the simulator for 10 seconds while saving data to the file `simulation_x_data.json` and saving video to the file `simulation_x_video.json`.\n",
    "\n",
    "If you do not need to save video and want this to run much faster, then specify `video_filename=None`."
   ]
  },
  {
   "cell_type": "code",
   "execution_count": 22,
   "id": "f8526f69",
   "metadata": {},
   "outputs": [
    {
     "name": "stdout",
     "output_type": "stream",
     "text": [
      "Creating a video with name simulation_2_video.mov and fps 100\n",
      " 100 / 1000\n",
      " 200 / 1000\n",
      " 300 / 1000\n",
      " 400 / 1000\n",
      " 500 / 1000\n",
      " 600 / 1000\n",
      " 700 / 1000\n",
      " 800 / 1000\n",
      " 900 / 1000\n",
      " 1000 / 1000\n",
      "Completed 1000 time steps in 34.4003 seconds (29.0695 time steps per second)\n"
     ]
    }
   ],
   "source": [
    "simulator.run(\n",
    "    max_time=10.,\n",
    "    data_filename='simulation_2_data.json',\n",
    "    # video_filename=None,\n",
    "    video_filename='simulation_2_video.mov',\n",
    ")"
   ]
  },
  {
   "cell_type": "markdown",
   "id": "28db6c97",
   "metadata": {},
   "source": [
    "Be careful! Both the data file and the video file will be overwritten if they already exist. We suggest you use a different name for each experiment."
   ]
  }
 ],
 "metadata": {
  "kernelspec": {
   "display_name": "Python 3.10.6 ('ae483')",
   "language": "python",
   "name": "python3"
  },
  "language_info": {
   "codemirror_mode": {
    "name": "ipython",
    "version": 3
   },
   "file_extension": ".py",
   "mimetype": "text/x-python",
   "name": "python",
   "nbconvert_exporter": "python",
   "pygments_lexer": "ipython3",
   "version": "3.10.6"
  },
  "vscode": {
   "interpreter": {
    "hash": "55f3d10349e66d919c047689eb145adb91bda62371fcae02ab7fdbb92b1ad011"
   }
  }
 },
 "nbformat": 4,
 "nbformat_minor": 5
}
